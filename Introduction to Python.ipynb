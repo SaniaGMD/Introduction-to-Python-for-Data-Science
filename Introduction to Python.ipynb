{
 "cells": [
  {
   "cell_type": "markdown",
   "id": "ba945dfd",
   "metadata": {},
   "source": [
    "# <center>Introduction to Python<center>"
   ]
  },
  {
   "cell_type": "markdown",
   "id": "99bd339e",
   "metadata": {},
   "source": [
    "# Hello Python"
   ]
  },
  {
   "cell_type": "markdown",
   "id": "818b7b92",
   "metadata": {},
   "source": [
    "Python is a popular high-level programming language that was first released in 1991. It is an interpreted language, which means that it doesn't need to be compiled before running like some other languages. Python is often used for web development, scientific computing, data analysis, artificial intelligence, and automation.\n",
    "\n",
    "One of the reasons why Python is so popular is that it is relatively easy to learn and use. Its syntax is straightforward and simple, and it is very readable, which makes it easier for people to collaborate on projects. Additionally, there is a vast amount of documentation, tutorials, and community support available online."
   ]
  },
  {
   "cell_type": "markdown",
   "id": "64499092",
   "metadata": {},
   "source": [
    "## Topics Covered"
   ]
  },
  {
   "cell_type": "markdown",
   "id": "d3ded83a",
   "metadata": {},
   "source": [
    "- Python Basics\n",
    "    - Varaibles and Types\n",
    "    - Python Types\n",
    "    - Conditional Operators\n",
    "    - Logical Operators\n",
    "    - Python Lists and its manipulation\n",
    "- Python Lists\n",
    "- python Functions, Methods and Packages\n",
    "- Introduction to Numpy"
   ]
  },
  {
   "cell_type": "markdown",
   "id": "b335f4c9",
   "metadata": {},
   "source": [
    "## Python Basics "
   ]
  },
  {
   "cell_type": "markdown",
   "id": "4c6d8210",
   "metadata": {},
   "source": [
    "### Variables and Types"
   ]
  },
  {
   "cell_type": "markdown",
   "id": "d54e5293",
   "metadata": {},
   "source": [
    " A variable is a named container that stores a value, which can be of any data type such as strings, integers, or floating-point numbers. You can assign a value to a variable using the equal sign (=) and use it throughout your code."
   ]
  },
  {
   "cell_type": "code",
   "execution_count": 75,
   "id": "1c0d417e",
   "metadata": {},
   "outputs": [
    {
     "data": {
      "text/plain": [
       "1.79"
      ]
     },
     "execution_count": 75,
     "metadata": {},
     "output_type": "execute_result"
    }
   ],
   "source": [
    "height = 1.79\n",
    "weight = 68.7\n",
    "height"
   ]
  },
  {
   "cell_type": "code",
   "execution_count": 76,
   "id": "b862a608",
   "metadata": {},
   "outputs": [
    {
     "name": "stdout",
     "output_type": "stream",
     "text": [
      "21.44127836209856\n"
     ]
    }
   ],
   "source": [
    "#Calculate BMI\n",
    "bmi = weight / height ** 2\n",
    "print(bmi)"
   ]
  },
  {
   "cell_type": "markdown",
   "id": "5236737a",
   "metadata": {},
   "source": [
    "### Python Types"
   ]
  },
  {
   "cell_type": "markdown",
   "id": "d5f75ff3",
   "metadata": {},
   "source": [
    "float - real numbers <br>\n",
    "int - integer numbers <br>\n",
    "str - string, text <br>\n",
    "bool - True, False<br>"
   ]
  },
  {
   "cell_type": "code",
   "execution_count": 77,
   "id": "a77e45e4",
   "metadata": {
    "scrolled": true
   },
   "outputs": [
    {
     "data": {
      "text/plain": [
       "float"
      ]
     },
     "execution_count": 77,
     "metadata": {},
     "output_type": "execute_result"
    }
   ],
   "source": [
    "type(bmi)"
   ]
  },
  {
   "cell_type": "code",
   "execution_count": 78,
   "id": "1199b4d6",
   "metadata": {},
   "outputs": [
    {
     "data": {
      "text/plain": [
       "int"
      ]
     },
     "execution_count": 78,
     "metadata": {},
     "output_type": "execute_result"
    }
   ],
   "source": [
    "rainbow_colors = 7\n",
    "type(rainbow_colors)"
   ]
  },
  {
   "cell_type": "code",
   "execution_count": 79,
   "id": "aca40aa0",
   "metadata": {},
   "outputs": [
    {
     "data": {
      "text/plain": [
       "str"
      ]
     },
     "execution_count": 79,
     "metadata": {},
     "output_type": "execute_result"
    }
   ],
   "source": [
    "x = \"this is a string\"\n",
    "y = 'this is a string too'\n",
    "type(x)"
   ]
  },
  {
   "cell_type": "markdown",
   "id": "344ad440",
   "metadata": {},
   "source": [
    "### Conditional Operators"
   ]
  },
  {
   "cell_type": "markdown",
   "id": "3ed06634",
   "metadata": {},
   "source": [
    "In Python, conditional operators are used to create conditional expressions that evaluate to True or False based on whether a certain condition is met. The most commonly used conditional operators in Python are:<br>\n",
    "\n",
    "- '==' --   equal to <br>\n",
    "- '!=' --   not equal to <br>\n",
    "- '>'  --  greater than<br>\n",
    "- '<'  --  less than<br>\n",
    "- '>='  --  greater than or equal to <br>\n",
    "- '<='  --  less than or equal to <br>"
   ]
  },
  {
   "cell_type": "code",
   "execution_count": 104,
   "id": "3a19b07c",
   "metadata": {},
   "outputs": [
    {
     "data": {
      "text/plain": [
       "False"
      ]
     },
     "execution_count": 104,
     "metadata": {},
     "output_type": "execute_result"
    }
   ],
   "source": [
    "\"hello\" == \"Hello\""
   ]
  },
  {
   "cell_type": "code",
   "execution_count": 105,
   "id": "0951e284",
   "metadata": {},
   "outputs": [
    {
     "data": {
      "text/plain": [
       "True"
      ]
     },
     "execution_count": 105,
     "metadata": {},
     "output_type": "execute_result"
    }
   ],
   "source": [
    "10 >= 10"
   ]
  },
  {
   "cell_type": "markdown",
   "id": "03af669d",
   "metadata": {},
   "source": [
    "### Logical Operators"
   ]
  },
  {
   "cell_type": "markdown",
   "id": "a3c3594b",
   "metadata": {},
   "source": [
    "In Python, logical operators are used to combine conditional expressions into more complex expressions that can be evaluated to True or False. The three logical operators in Python are: <br>\n",
    "\n",
    "- and -- Returns True if both expressions are True. <br>\n",
    "- or -- Returns True if at least one of the expressions is True.<br>\n",
    "- not -- Returns True if the expression is False, and False if the expression is True.<br>"
   ]
  },
  {
   "cell_type": "code",
   "execution_count": 107,
   "id": "77278c63",
   "metadata": {},
   "outputs": [
    {
     "data": {
      "text/plain": [
       "False"
      ]
     },
     "execution_count": 107,
     "metadata": {},
     "output_type": "execute_result"
    }
   ],
   "source": [
    "# and\n",
    "(3 > 2) and (5 < 3)"
   ]
  },
  {
   "cell_type": "code",
   "execution_count": 108,
   "id": "5ada5887",
   "metadata": {},
   "outputs": [
    {
     "data": {
      "text/plain": [
       "True"
      ]
     },
     "execution_count": 108,
     "metadata": {},
     "output_type": "execute_result"
    }
   ],
   "source": [
    "# or\n",
    "(1 == 2) or (2 == 3) or (4 == 4)"
   ]
  },
  {
   "cell_type": "markdown",
   "id": "87c897cf",
   "metadata": {},
   "source": [
    "### Python Lists"
   ]
  },
  {
   "cell_type": "markdown",
   "id": "b2fa7b9c",
   "metadata": {},
   "source": [
    "A list is a collection of ordered(because the elements of a list are stored in a specific index order) and mutable elements, which can be of any data type such as strings, integers, or other objects. Lists are defined using square brackets [] and each element is separated by a comma."
   ]
  },
  {
   "cell_type": "code",
   "execution_count": 81,
   "id": "cb4d1962",
   "metadata": {},
   "outputs": [
    {
     "name": "stdout",
     "output_type": "stream",
     "text": [
      "['Ali', 99, 'Sara', 99, 'Zara', 98]\n"
     ]
    }
   ],
   "source": [
    "marks = [\"Ali\", 99 , \"Sara\", 99 ,\"Zara\", 98]\n",
    "print(marks)"
   ]
  },
  {
   "cell_type": "code",
   "execution_count": 82,
   "id": "4612baa4",
   "metadata": {},
   "outputs": [
    {
     "name": "stdout",
     "output_type": "stream",
     "text": [
      "[['Ali', 99], ['Sara', 99], ['Zara', 98]]\n"
     ]
    }
   ],
   "source": [
    "marks = [[\"Ali\", 99],\n",
    "         [\"Sara\", 99],\n",
    "         [\"Zara\", 98]]\n",
    "print(marks)"
   ]
  },
  {
   "cell_type": "code",
   "execution_count": 83,
   "id": "a3cc1472",
   "metadata": {},
   "outputs": [
    {
     "data": {
      "text/plain": [
       "list"
      ]
     },
     "execution_count": 83,
     "metadata": {},
     "output_type": "execute_result"
    }
   ],
   "source": [
    "#list Type\n",
    "type(marks)"
   ]
  },
  {
   "cell_type": "markdown",
   "id": "4d817662",
   "metadata": {},
   "source": [
    "### Subsetting lists"
   ]
  },
  {
   "cell_type": "code",
   "execution_count": 84,
   "id": "ce7b8b5a",
   "metadata": {},
   "outputs": [
    {
     "name": "stdout",
     "output_type": "stream",
     "text": [
      "Ali\n",
      "99\n",
      "Sara\n"
     ]
    }
   ],
   "source": [
    "marks = [\"Ali\", 99 , \"Sara\", 99 ,\"Zara\", 98]\n",
    "print(marks[0])   # Output: \"Ali\"\n",
    "print(marks[1])   # Output: \"99\"\n",
    "print(marks[2])   # Output: \"Sara\""
   ]
  },
  {
   "cell_type": "markdown",
   "id": "5a0cc3e8",
   "metadata": {},
   "source": [
    "### List slicing"
   ]
  },
  {
   "cell_type": "markdown",
   "id": "25516e78",
   "metadata": {},
   "source": [
    "[start : end]"
   ]
  },
  {
   "cell_type": "code",
   "execution_count": 85,
   "id": "02bf44b5",
   "metadata": {},
   "outputs": [
    {
     "name": "stdout",
     "output_type": "stream",
     "text": [
      "[99, 'Sara']\n",
      "[99]\n",
      "['Ali', 99, 'Sara', 99, 'Zara', 98]\n",
      "['Ali', 99, 'Sara', 99, 'Zara']\n"
     ]
    }
   ],
   "source": [
    "print(marks[1:3]) #start is inclusive, end is exclusive\n",
    "print(marks[3:4])\n",
    "print(marks[0:])\n",
    "print(marks[:-1])"
   ]
  },
  {
   "cell_type": "markdown",
   "id": "56ce0026",
   "metadata": {},
   "source": [
    "### Manipulating lists"
   ]
  },
  {
   "cell_type": "markdown",
   "id": "5516d73d",
   "metadata": {},
   "source": [
    "- Change list elements\n",
    "- Add list elements\n",
    "- Remove list elements"
   ]
  },
  {
   "cell_type": "code",
   "execution_count": 86,
   "id": "234ba89d",
   "metadata": {},
   "outputs": [
    {
     "name": "stdout",
     "output_type": "stream",
     "text": [
      "['Ali', 92, 'Sara', 99, 'Zara', 98]\n"
     ]
    }
   ],
   "source": [
    "#Change list elements\n",
    "marks[1] = 92 #changing marks for Ali\n",
    "print(marks)"
   ]
  },
  {
   "cell_type": "code",
   "execution_count": 87,
   "id": "bbb47d91",
   "metadata": {},
   "outputs": [
    {
     "name": "stdout",
     "output_type": "stream",
     "text": [
      "['Ali', 92, 'Sania', 95, 'Zara', 98]\n"
     ]
    }
   ],
   "source": [
    "marks[2:4] = [\"Sania\" , 95]\n",
    "print(marks)"
   ]
  },
  {
   "cell_type": "code",
   "execution_count": 88,
   "id": "0f142925",
   "metadata": {},
   "outputs": [
    {
     "name": "stdout",
     "output_type": "stream",
     "text": [
      "['Ali', 92, 'Sania', 95, 'Zara', 98, 'Sam', 96]\n"
     ]
    }
   ],
   "source": [
    "#Adding and removing elements\n",
    "marks = marks + [\"Sam\" , 96]\n",
    "print(marks)"
   ]
  },
  {
   "cell_type": "code",
   "execution_count": 89,
   "id": "5c10fcfe",
   "metadata": {},
   "outputs": [
    {
     "name": "stdout",
     "output_type": "stream",
     "text": [
      "['Ali', 92, 'Sania', 95, 'Zara', 98, 'Sam']\n"
     ]
    }
   ],
   "source": [
    "del(marks[7]) #Sam marks removed form list\n",
    "print(marks)"
   ]
  },
  {
   "cell_type": "markdown",
   "id": "5d962774",
   "metadata": {},
   "source": [
    "### Functions"
   ]
  },
  {
   "cell_type": "markdown",
   "id": "d5542209",
   "metadata": {},
   "source": [
    "In Python, a function is a named block of code that performs a specific task. Functions are used to break up large programs into smaller, more manageable pieces, and to reuse code that is needed in multiple places.\n",
    "\n",
    "Functions in Python are defined using the def keyword followed by the function name, a set of parentheses, and a colon. The function body is then indented and contains the code that the function executes when called. Functions can also take parameters as inputs and return values as outputs."
   ]
  },
  {
   "cell_type": "code",
   "execution_count": 90,
   "id": "926bf20a",
   "metadata": {},
   "outputs": [],
   "source": [
    "def sum(x, y):\n",
    "    return x + y"
   ]
  },
  {
   "cell_type": "code",
   "execution_count": 91,
   "id": "6db53f20",
   "metadata": {},
   "outputs": [
    {
     "name": "stdout",
     "output_type": "stream",
     "text": [
      "11\n"
     ]
    }
   ],
   "source": [
    "z = sum(2, 9)\n",
    "print(z)   # Output: 11"
   ]
  },
  {
   "cell_type": "code",
   "execution_count": 92,
   "id": "72d90e56",
   "metadata": {},
   "outputs": [
    {
     "data": {
      "text/plain": [
       "8.6"
      ]
     },
     "execution_count": 92,
     "metadata": {},
     "output_type": "execute_result"
    }
   ],
   "source": [
    "#there as built-in functions as well\n",
    "len = [1.3, 8.6, 4.5, 3.4]\n",
    "max(len)"
   ]
  },
  {
   "cell_type": "markdown",
   "id": "13f02ea0",
   "metadata": {},
   "source": [
    "### Help"
   ]
  },
  {
   "cell_type": "code",
   "execution_count": 93,
   "id": "4ce0341b",
   "metadata": {
    "scrolled": true
   },
   "outputs": [
    {
     "name": "stdout",
     "output_type": "stream",
     "text": [
      "Help on built-in function round in module builtins:\n",
      "\n",
      "round(number, ndigits=None)\n",
      "    Round a number to a given precision in decimal digits.\n",
      "    \n",
      "    The return value is an integer if ndigits is omitted or None.  Otherwise\n",
      "    the return value has the same type as the number.  ndigits may be negative.\n",
      "\n"
     ]
    }
   ],
   "source": [
    "help(round) # Open up documentation"
   ]
  },
  {
   "cell_type": "code",
   "execution_count": 94,
   "id": "a2b1852c",
   "metadata": {},
   "outputs": [
    {
     "data": {
      "text/plain": [
       "1.7"
      ]
     },
     "execution_count": 94,
     "metadata": {},
     "output_type": "execute_result"
    }
   ],
   "source": [
    "round(1.68, 1)"
   ]
  },
  {
   "cell_type": "markdown",
   "id": "de59ec44",
   "metadata": {},
   "source": [
    "![functions](functions.png)"
   ]
  },
  {
   "cell_type": "markdown",
   "id": "f243ac3a",
   "metadata": {},
   "source": [
    "- round(number)\n",
    "- round(number, ndigits)"
   ]
  },
  {
   "cell_type": "markdown",
   "id": "5ad4be7b",
   "metadata": {},
   "source": [
    "### Find Functions"
   ]
  },
  {
   "cell_type": "markdown",
   "id": "853e4e2b",
   "metadata": {},
   "source": [
    "- How to know?\n",
    "- Standard task -> probably function exists!\n",
    "- The internet is your friend"
   ]
  },
  {
   "cell_type": "markdown",
   "id": "b0258467",
   "metadata": {},
   "source": [
    "### Methods"
   ]
  },
  {
   "cell_type": "markdown",
   "id": "760e9a46",
   "metadata": {},
   "source": [
    "In Python, a method is a function that is associated with an object. It is a type of function that is called on an instance of a class, and it operates on the data contained within that instance.\n",
    "\n",
    "Methods are defined within a class definition and are accessed using dot notation on an instance of the class. The first parameter of a method is always the object instance itself, conventionally named self, which refers to the instance on which the method is called."
   ]
  },
  {
   "cell_type": "code",
   "execution_count": 95,
   "id": "33523608",
   "metadata": {},
   "outputs": [
    {
     "name": "stdout",
     "output_type": "stream",
     "text": [
      "DATA SCIENCE\n",
      "data science\n",
      "Data science\n"
     ]
    }
   ],
   "source": [
    "# String methods\n",
    "text = \"Data Science\" \n",
    "print(text.upper()) # \"DATA SCIENCE\"\n",
    "print(text.lower()) # \"data science\"\n",
    "print(text.capitalize()) # \"Data science\""
   ]
  },
  {
   "cell_type": "code",
   "execution_count": 96,
   "id": "1b2e5073",
   "metadata": {},
   "outputs": [
    {
     "name": "stdout",
     "output_type": "stream",
     "text": [
      "[10, 9, 9, 2, 0, 4, 1]\n",
      "[0, 1, 2, 4, 9, 9, 10]\n"
     ]
    }
   ],
   "source": [
    "# Lists methods\n",
    "numbers = [1, 4, 0, 2, 9, 9, 10]\n",
    "numbers.reverse()\n",
    "print(numbers) # [10, 9, 9, 2, 0, 4, 1]\n",
    "numbers.sort()\n",
    "print(numbers) # [0, 1, 2, 4, 9, 9, 10]"
   ]
  },
  {
   "cell_type": "code",
   "execution_count": 97,
   "id": "b1accef9",
   "metadata": {},
   "outputs": [
    {
     "name": "stdout",
     "output_type": "stream",
     "text": [
      "dict_keys(['Ex Machina', 'Mad Max: Fury Road', '1408'])\n",
      "dict_values([7.7, 8.1, 6.8])\n",
      "dict_items([('Ex Machina', 7.7), ('Mad Max: Fury Road', 8.1), ('1408', 6.8)])\n"
     ]
    }
   ],
   "source": [
    "# Dictionaris methods\n",
    "ratings = {\n",
    "    \"Ex Machina\": 7.7,\n",
    "    \"Mad Max: Fury Road\": 8.1,\n",
    "    \"1408\" : 6.8\n",
    "}\n",
    "print(ratings.keys()) # dict_keys(['Ex Machina', 'Mad Max: Fury Road', '1408'])\n",
    "print(ratings.values()) # dict_values([7.7, 8.1, 6.8])\n",
    "print(ratings.items()) # dict_items([('Ex Machina', 7.7), ('Mad Max: Fury Road', 8.1), ('1408', 6.8)])"
   ]
  },
  {
   "cell_type": "markdown",
   "id": "ff744dcd",
   "metadata": {},
   "source": [
    "### Packages"
   ]
  },
  {
   "cell_type": "markdown",
   "id": "83fbf67e",
   "metadata": {},
   "source": [
    "In Python, a package is a collection of related modules that are organized together in a directory hierarchy. A package can contain other packages as well as modules.Packages are a way to organize and reuse code in a modular and scalable way. They allow you to group related functionality together and make it easy to reuse across multiple projects. Packages also make it easy to distribute and install libraries and applications.\n",
    "\n",
    "Python has a rich ecosystem of packages and libraries that are available for use, such as NumPy, Pandas, and Matplotlib, to name a few. These packages provide functionality for scientific computing, data analysis, and visualization, among other things.\n",
    "- “NumPy” is used for efficiently working with arrays\n",
    "- “matplotlib” and “seaborn” are popular libraries used for data visualization\n",
    "- “scikit-learn” is a powerful library for machine learning"
   ]
  },
  {
   "cell_type": "markdown",
   "id": "e09ce713",
   "metadata": {},
   "source": [
    "### Installing Packages"
   ]
  },
  {
   "cell_type": "markdown",
   "id": "1aa83ab3",
   "metadata": {},
   "source": [
    "Install package<br>\n",
    "http://pip.readthedocs.org/en/stable/installing/ <br>\n",
    "Download get-pip.py <br>\n",
    "Terminal:<br>\n",
    "python3 get-pip.py <br>\n",
    "pip3 install numpy <br>"
   ]
  },
  {
   "cell_type": "markdown",
   "id": "bcd6556b",
   "metadata": {},
   "source": [
    "NumPy arrays and Python lists are both used to store collections of data, but there are some important differences between them:\n",
    "\n",
    "- Data type consistency: NumPy arrays are homogeneous, meaning they can only store elements of a single data type, whereas lists can store elements of different data types.\n",
    "\n",
    "- Memory efficiency: NumPy arrays are more memory efficient than lists, particularly for large datasets. This is because NumPy stores data in contiguous blocks of memory, whereas lists store references to memory locations.\n",
    "\n",
    "- Ease of use: NumPy provides a wide range of mathematical operations that can be performed on arrays without requiring loops, which can simplify code and make it faster. Lists, on the other hand, require explicit iteration to perform operations on their elements.\n",
    "\n",
    "- Speed: NumPy is generally faster than lists, particularly for large datasets, because it is implemented in C and uses more efficient memory management."
   ]
  },
  {
   "cell_type": "code",
   "execution_count": 98,
   "id": "ddd066ea",
   "metadata": {},
   "outputs": [
    {
     "data": {
      "text/plain": [
       "array([1.73, 1.68, 1.71, 1.89, 1.79])"
      ]
     },
     "execution_count": 98,
     "metadata": {},
     "output_type": "execute_result"
    }
   ],
   "source": [
    "import numpy as np\n",
    "height = [1.73, 1.68, 1.71, 1.89, 1.79]\n",
    "height = np.array(height)\n",
    "height"
   ]
  },
  {
   "cell_type": "code",
   "execution_count": 99,
   "id": "38babd08",
   "metadata": {},
   "outputs": [
    {
     "data": {
      "text/plain": [
       "array([65.4, 59.2, 63.6, 88.4, 68.7])"
      ]
     },
     "execution_count": 99,
     "metadata": {},
     "output_type": "execute_result"
    }
   ],
   "source": [
    "weight = np.array([65.4, 59.2, 63.6, 88.4, 68.7])\n",
    "weight"
   ]
  },
  {
   "cell_type": "code",
   "execution_count": 100,
   "id": "7186bd39",
   "metadata": {},
   "outputs": [
    {
     "data": {
      "text/plain": [
       "array([21.85171573, 20.97505669, 21.75028214, 24.7473475 , 21.44127836])"
      ]
     },
     "execution_count": 100,
     "metadata": {},
     "output_type": "execute_result"
    }
   ],
   "source": [
    "bmi = weight / height ** 2\n",
    "bmi"
   ]
  },
  {
   "cell_type": "code",
   "execution_count": 101,
   "id": "0c8bd791",
   "metadata": {},
   "outputs": [],
   "source": [
    "#list vs arrays\n",
    "python_list = [1, 2, 3]\n",
    "numpy_array = np.array([1, 2, 3])"
   ]
  },
  {
   "cell_type": "code",
   "execution_count": 102,
   "id": "cfb68c1b",
   "metadata": {},
   "outputs": [
    {
     "data": {
      "text/plain": [
       "[1, 2, 3, 1, 2, 3]"
      ]
     },
     "execution_count": 102,
     "metadata": {},
     "output_type": "execute_result"
    }
   ],
   "source": [
    "python_list + python_list"
   ]
  },
  {
   "cell_type": "code",
   "execution_count": 109,
   "id": "7540800c",
   "metadata": {},
   "outputs": [
    {
     "data": {
      "text/plain": [
       "array([2, 4, 6])"
      ]
     },
     "execution_count": 109,
     "metadata": {},
     "output_type": "execute_result"
    }
   ],
   "source": [
    "numpy_array + numpy_array"
   ]
  },
  {
   "cell_type": "markdown",
   "id": "f119de1e",
   "metadata": {},
   "source": [
    "Different types: different behavior!"
   ]
  },
  {
   "cell_type": "markdown",
   "id": "9ecbfca1",
   "metadata": {},
   "source": [
    "### Continued for Intermediate Python for Data Science\n",
    "Lets Connected: https://www.linkedin.com/in/sania-mohiu-ud-din-277047193 <br>\n",
    "GitHub: https://github.com/SaniaGMD"
   ]
  }
 ],
 "metadata": {
  "kernelspec": {
   "display_name": "Python 3 (ipykernel)",
   "language": "python",
   "name": "python3"
  },
  "language_info": {
   "codemirror_mode": {
    "name": "ipython",
    "version": 3
   },
   "file_extension": ".py",
   "mimetype": "text/x-python",
   "name": "python",
   "nbconvert_exporter": "python",
   "pygments_lexer": "ipython3",
   "version": "3.9.7"
  }
 },
 "nbformat": 4,
 "nbformat_minor": 5
}
